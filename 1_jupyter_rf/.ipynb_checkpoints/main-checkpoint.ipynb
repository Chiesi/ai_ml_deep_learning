{
 "cells": [
  {
   "cell_type": "code",
   "execution_count": null,
   "id": "48a140a0-2872-4440-8f37-8db1a51724f3",
   "metadata": {},
   "outputs": [
    {
     "name": "stderr",
     "output_type": "stream",
     "text": [
      "/Users/shippy.pro/.pyenv/versions/3.9.18/envs/example_1/lib/python3.9/site-packages/tqdm/auto.py:21: TqdmWarning: IProgress not found. Please update jupyter and ipywidgets. See https://ipywidgets.readthedocs.io/en/stable/user_install.html\n",
      "  from .autonotebook import tqdm as notebook_tqdm\n"
     ]
    }
   ],
   "source": [
    "import kagglehub\n",
    "import pandas as pd\n",
    "from sklearn.preprocessing import OrdinalEncoder\n",
    "from sklearn.model_selection import train_test_split\n",
    "# For this first example we'll use Random Forest\n",
    "from sklearn.ensemble import RandomForestClassifier\n",
    "# \"Measure what is measurable, make measurable what is not\"\n",
    "from sklearn.metrics import accuracy_score"
   ]
  },
  {
   "cell_type": "code",
   "execution_count": null,
   "id": "2a9f0736-7310-4cff-bbfc-859a92f1e00c",
   "metadata": {},
   "outputs": [],
   "source": [
    "# Download base dataset\n",
    "path = kagglehub.dataset_download(\"mathchi/churn-for-bank-customers\")\n",
    "print(\"Path to dataset files:\", path)"
   ]
  },
  {
   "cell_type": "code",
   "execution_count": null,
   "id": "e69fb37f-bd57-4208-8a5c-3fe8137cdef4",
   "metadata": {},
   "outputs": [],
   "source": [
    "# Import into pandas\n",
    "churn_data = pd.read_csv(path)\n",
    "churn_data.head()"
   ]
  },
  {
   "cell_type": "code",
   "execution_count": null,
   "id": "87976aec-15ba-478d-bdfb-d6c5546bbc78",
   "metadata": {},
   "outputs": [],
   "source": [
    "# Generate statistics about various features \n",
    "churn_data.describe()\n",
    "# Remember pixel histograms?\n",
    "churn_data.hist(['CreditScore', 'Age', 'Balance'])\n",
    "# Find correlation amongst features\n",
    "churn_data.corr()"
   ]
  }
 ],
 "metadata": {
  "kernelspec": {
   "display_name": "Python 3 (ipykernel)",
   "language": "python",
   "name": "python3"
  },
  "language_info": {
   "codemirror_mode": {
    "name": "ipython",
    "version": 3
   },
   "file_extension": ".py",
   "mimetype": "text/x-python",
   "name": "python",
   "nbconvert_exporter": "python",
   "pygments_lexer": "ipython3",
   "version": "3.9.18"
  }
 },
 "nbformat": 4,
 "nbformat_minor": 5
}
