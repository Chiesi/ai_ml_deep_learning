{
 "cells": [
  {
   "cell_type": "code",
   "execution_count": 6,
   "id": "48a140a0-2872-4440-8f37-8db1a51724f3",
   "metadata": {},
   "outputs": [],
   "source": [
    "import os\n",
    "import shutil\n",
    "import kagglehub\n",
    "import pandas as pd\n",
    "from sklearn.preprocessing import OrdinalEncoder\n",
    "from sklearn.model_selection import train_test_split\n",
    "# For this first example we'll use Random Forest\n",
    "from sklearn.ensemble import RandomForestClassifier\n",
    "# \"Measure what is measurable, make measurable what is not\"\n",
    "from sklearn.metrics import accuracy_score"
   ]
  },
  {
   "cell_type": "code",
   "execution_count": 7,
   "id": "2a9f0736-7310-4cff-bbfc-859a92f1e00c",
   "metadata": {},
   "outputs": [],
   "source": [
    "# Download base dataset\n",
    "path = kagglehub.dataset_download(\"mathchi/churn-for-bank-customers\")\n",
    "os.rename(path, \"../datasets\")"
   ]
  },
  {
   "cell_type": "code",
   "execution_count": null,
   "id": "e69fb37f-bd57-4208-8a5c-3fe8137cdef4",
   "metadata": {},
   "outputs": [],
   "source": [
    "# Import into pandas\n",
    "churn_data = pd.read_csv(\"../datasets/churn.csv\")\n",
    "churn_data.head()"
   ]
  },
  {
   "cell_type": "code",
   "execution_count": null,
   "id": "87976aec-15ba-478d-bdfb-d6c5546bbc78",
   "metadata": {},
   "outputs": [],
   "source": [
    "# Generate statistics about various features \n",
    "churn_data.describe()\n",
    "# Remember pixel histograms?\n",
    "churn_data.hist(['CreditScore', 'Age', 'Balance'])"
   ]
  },
  {
   "cell_type": "code",
   "execution_count": 12,
   "id": "97692e85",
   "metadata": {},
   "outputs": [],
   "source": [
    "# Generate pure numbers from textual representations\n",
    "# for geographical and gender data\n",
    "encoder_1 = OrdinalEncoder()\n",
    "encoder_2 = OrdinalEncoder()\n",
    "churn_data['Geography_code'] = encoder_1.fit_transform(\n",
    "    churn_data[['Geography']]\n",
    ")\n",
    "churn_data['Gender_code'] = encoder_2.fit_transform(\n",
    "    churn_data[['Gender']]\n",
    ")\n",
    "churn_data['Surname_code'] = encoder_2.fit_transform(\n",
    "    churn_data[['Gender']]\n",
    ")"
   ]
  },
  {
   "cell_type": "code",
   "execution_count": 13,
   "id": "8b86769b",
   "metadata": {},
   "outputs": [],
   "source": [
    "# Now, one of the greatest feature engineering techniques: drop unused columns\n",
    "churn_data.drop(\n",
    "    columns = ['Geography','Gender','RowNumber','Surname'],\n",
    "    inplace=True\n",
    ")"
   ]
  },
  {
   "cell_type": "code",
   "execution_count": null,
   "id": "1b9c258c",
   "metadata": {},
   "outputs": [],
   "source": [
    "# Find correlation amongst features\n",
    "churn_data.corr()"
   ]
  },
  {
   "cell_type": "code",
   "execution_count": 15,
   "id": "aef4835f",
   "metadata": {},
   "outputs": [],
   "source": [
    "# Divide between training (80%) and testing (20%).\n",
    "churn_train, churn_test = train_test_split(\n",
    "    churn_data, test_size=0.2\n",
    ")"
   ]
  },
  {
   "cell_type": "code",
   "execution_count": 16,
   "id": "127789e0",
   "metadata": {},
   "outputs": [],
   "source": [
    "# We'll use \"Exited\" as our target column - a churned customer\n",
    "# is, by definition, one who has discontinued a service\n",
    "churn_train_X = churn_train.loc[:, churn_train.columns != 'Exited']\n",
    "churn_train_y = churn_train['Exited']\n",
    "churn_test_X = churn_test.loc[:, churn_test.columns != 'Exited']\n",
    "churn_test_y = churn_test['Exited']\n",
    "bank_churn_clf = RandomForestClassifier(\n",
    "    max_depth=2, random_state=0\n",
    ")\n",
    "bank_churn_clf.fit(churn_train_X, churn_train_y)\n",
    "churn_prediction_y = bank_churn_clf.predict(churn_test_X)"
   ]
  },
  {
   "cell_type": "code",
   "execution_count": null,
   "id": "fe303979",
   "metadata": {},
   "outputs": [],
   "source": [
    "# Finally, let's determine the accuracy\n",
    "print(\"Accuracy: {:.2f} %\".format(accuracy_score(churn_test_y, churn_prediction_y) * 100))"
   ]
  }
 ],
 "metadata": {
  "kernelspec": {
   "display_name": "example_1",
   "language": "python",
   "name": "python3"
  },
  "language_info": {
   "codemirror_mode": {
    "name": "ipython",
    "version": 3
   },
   "file_extension": ".py",
   "mimetype": "text/x-python",
   "name": "python",
   "nbconvert_exporter": "python",
   "pygments_lexer": "ipython3",
   "version": "3.9.18"
  }
 },
 "nbformat": 4,
 "nbformat_minor": 5
}
