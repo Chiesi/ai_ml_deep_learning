{
 "cells": [
  {
   "cell_type": "code",
   "execution_count": 5,
   "metadata": {},
   "outputs": [],
   "source": [
    "import os\n",
    "os.environ['TF_CPP_MIN_LOG_LEVEL'] = '1'\n",
    "import numpy as np\n",
    "import tensorflow as tf\n",
    "from matplotlib import pyplot as plt\n",
    "\n",
    "# Load the MNIST fashion data - we're italians, after all!\n",
    "train, test = tf.keras.datasets.fashion_mnist.load_data()"
   ]
  },
  {
   "cell_type": "code",
   "execution_count": 6,
   "metadata": {},
   "outputs": [],
   "source": [
    "# Assign the variables to the dataset values, and batch them in buckets of 32\n",
    "images, labels = train\n",
    "labels = labels.astype(np.int32)\n",
    "images = images/256\n",
    "train_ds = tf.data.Dataset.from_tensor_slices((images, labels))\n",
    "train_ds = train_ds.batch(32)"
   ]
  },
  {
   "cell_type": "code",
   "execution_count": null,
   "metadata": {},
   "outputs": [],
   "source": [
    "# Inspectint a data sample is usually a good call\n",
    "print (\"label:\" + str(labels[0]))\n",
    "pixels = images[0]\n",
    "plt.imshow(pixels, cmap='gray')\n",
    "plt.show()"
   ]
  },
  {
   "cell_type": "code",
   "execution_count": 8,
   "metadata": {},
   "outputs": [],
   "source": [
    "# Let's build our first deep learning network!\n",
    "# It'll be a multi-layer perceptron with 2 hidden RELU layers (the first with 100\n",
    "# neurons, the second with 50) and an output layer with 10 neurons\n",
    "model = tf.keras.Sequential([\n",
    "    tf.keras.layers.Flatten(),\n",
    "    tf.keras.layers.Dense(100, activation=\"relu\"),\n",
    "    tf.keras.layers.Dense(50, activation=\"relu\"),\n",
    "    tf.keras.layers.Dense(10),\n",
    "    tf.keras.layers.Softmax()\n",
    "])"
   ]
  },
  {
   "cell_type": "code",
   "execution_count": null,
   "metadata": {},
   "outputs": [],
   "source": [
    "# We'll optimize with Adam, a variant of gradient descent - the only difference\n",
    "# being that it uses cross-entropy\n",
    "model.compile(\n",
    "    optimizer='adam',\n",
    "    loss=tf.keras.losses.SparseCategoricalCrossentropy(),\n",
    "    metrics=[tf.keras.metrics.\n",
    "    SparseCategoricalAccuracy()]\n",
    ")\n",
    "model.fit(train_ds, epochs=10)"
   ]
  },
  {
   "cell_type": "code",
   "execution_count": 10,
   "metadata": {},
   "outputs": [],
   "source": [
    "# Validate the model performance by comparing against the test dataset\n",
    "images_test, labels_test = test\n",
    "labels_test = labels_test.astype(np.int32)\n",
    "images_test = images_test/256"
   ]
  },
  {
   "cell_type": "code",
   "execution_count": null,
   "metadata": {},
   "outputs": [],
   "source": [
    "test_ds = tf.data.Dataset.from_tensor_slices((images_test, labels_test))\n",
    "test_ds = train_ds.batch(32)\n",
    "# We'll also shuffle the dataset to ensure ordering is not a factor\n",
    "test_ds = train_ds.shuffle(30)\n",
    "results = model.evaluate(test_ds)\n",
    "print(\"Test loss: {:.2f} % | Test accuracy: {:.2f} %\".format(results[0] * 100, results[1] * 100))"
   ]
  },
  {
   "cell_type": "code",
   "execution_count": null,
   "metadata": {},
   "outputs": [],
   "source": [
    "# Bonus: 101 ways to lie with statistics!\n",
    "predictions = model.predict(test[0])\n",
    "predicted_labels = np.argmax(predictions, axis=1)\n",
    "m = tf.keras.metrics.Accuracy()\n",
    "m.update_state(predicted_labels, test[1])\n",
    "m.result().numpy()\n",
    "print(\"Test accuracy according to Keras: {:.2f} % \".format(m.result().numpy() * 100))"
   ]
  },
  {
   "cell_type": "code",
   "execution_count": null,
   "metadata": {},
   "outputs": [],
   "source": [
    "# Save the trained model\n",
    "model.save(\"../models/first_model.keras\")"
   ]
  }
 ],
 "metadata": {
  "kernelspec": {
   "display_name": "example_1",
   "language": "python",
   "name": "python3"
  },
  "language_info": {
   "codemirror_mode": {
    "name": "ipython",
    "version": 3
   },
   "file_extension": ".py",
   "mimetype": "text/x-python",
   "name": "python",
   "nbconvert_exporter": "python",
   "pygments_lexer": "ipython3",
   "version": "3.9.18"
  }
 },
 "nbformat": 4,
 "nbformat_minor": 2
}
